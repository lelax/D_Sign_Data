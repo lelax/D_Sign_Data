{
  "cells": [
    {
      "cell_type": "markdown",
      "metadata": {
        "id": "view-in-github",
        "colab_type": "text"
      },
      "source": [
        "<a href=\"https://colab.research.google.com/github/lelax/D_Sign_Data/blob/main/D_Sign_Data_Doc.ipynb\" target=\"_parent\"><img src=\"https://colab.research.google.com/assets/colab-badge.svg\" alt=\"Open In Colab\"/></a>"
      ]
    },
    {
      "cell_type": "markdown",
      "id": "b61153c5",
      "metadata": {
        "id": "b61153c5"
      },
      "source": [
        "<h2 style=\"color:Tomato;\">Data Science course of DHDK university program - Academic year 2021-2022</h2>\n",
        "\n",
        "<h1>D_Sign_Data Notebook</h1>\n",
        "<h3><i>Descriptive document of the final project work</i></h3>\n",
        "\n",
        "<em>Camila Oliveira, Anita Vishinskaite, Marida Di Lembo</em>"
      ]
    },
    {
      "cell_type": "markdown",
      "id": "2ae37698",
      "metadata": {
        "id": "2ae37698"
      },
      "source": [
        "<h2>The Context</h2>\n",
        "\n",
        "<blockquote>The goal of the project is to develop a software that enables one to process data stored in different formats and to upload them into two distinct databases to query these databases simultaneously according to predefined operations. </blockquote>\n",
        "<br>\n",
        "<p>We have been analysing the project requirements and the data provided and assigned a different task to each of us for the development activity</p>\n",
        "<p>Basically we splitted in two groups: one focused on the relational database and the other on the graph database.</p>\n",
        "<p>The tasks were developed in the following way:<p>\n",
        "    <ul>\n",
        "        <li>Camila Oliveira: Relational Processor, Relational Data Processor and Relational Query Processor</li>\n",
        "        <li>Anita Vishinskaite: Triple Store Processor, Triple Store Data Processor</li>\n",
        "        <li>Marida Di Lembo: Triple Store Query Processor, Generic Query Data Processor</li>\n",
        "</ul>\n",
        "<p><em>Initially the group was composed of four members, at the end we remained in three.</em></p>"
      ]
    },
    {
      "cell_type": "markdown",
      "id": "5f334d7b",
      "metadata": {
        "id": "5f334d7b"
      },
      "source": [
        "<h3>Tools and collaboration environment</h3>\n",
        "\n",
        "<p>First of all we have been setting up our Github Repository: <a href=\"https://github.com/lelax/D_Sign_Data\">https://github.com/lelax/D_Sign_Data</a> and shared access to it in order to be able to upload the material and syncronize it in real time.</p>\n",
        "<p>Then we have been also evaluating between Jupyter and Google Colab and we finally decided to use Jupyter for the documentation report.</p>"
      ]
    },
    {
      "cell_type": "markdown",
      "id": "be5daa1b",
      "metadata": {
        "id": "be5daa1b"
      },
      "source": [
        "<h4><em>What you will find in the repository?</em></h4>\n",
        "\n",
        "<ul>\n",
        "    <li>A folder called <b>import</b> where we have copied the .csv and .json files provided</li>\n",
        "    <li>A folder called <b>URIref</b> where we have created additional classes</li>\n",
        "    <li>The <b>impl.py</b> Python file, where all the relational data base has been defined</li>\n",
        "    <li>The <b>graph_01.py</b> Python file, where all the graph data base has been defined</li>\n",
        "    <li>A file for the SPARQL queries</li>\n",
        "    <li>A file for the Generic Query Processor </li>\n",
        "</ul>"
      ]
    },
    {
      "cell_type": "markdown",
      "id": "6b2ec343",
      "metadata": {
        "id": "6b2ec343"
      },
      "source": [
        "<h2>The Relational Workflow</h2>"
      ]
    },
    {
      "cell_type": "markdown",
      "id": "c508dfd3",
      "metadata": {
        "id": "c508dfd3"
      },
      "source": [
        "In the <em>impl.py</em> file we have been developing the code for the creation of a relational workflow of the data model requested and the data provided.\n",
        "<p>The libraries imported and used are the following:</p>"
      ]
    },
    {
      "cell_type": "code",
      "execution_count": null,
      "id": "08a2f002",
      "metadata": {
        "id": "08a2f002"
      },
      "outputs": [],
      "source": [
        "import pandas as pd\n",
        "import sqlite3\n",
        "from sqlite3 import connect\n",
        "from pandas import read_csv\n",
        "from pandas import Series\n",
        "from pandas import read_sql\n",
        "from pandas import read_json\n",
        "from pandas import DataFrame\n",
        "from csv import reader\n",
        "from pandas import merge\n",
        "from json import dump\n",
        "from csv import reader"
      ]
    },
    {
      "cell_type": "markdown",
      "id": "48a29b07",
      "metadata": {
        "id": "48a29b07"
      },
      "source": [
        "<h2>UML of data model classes<h2>"
      ]
    },
    {
      "cell_type": "markdown",
      "id": "9fcd3e28",
      "metadata": {
        "id": "9fcd3e28"
      },
      "source": [
        "<p>The following classes were created as well as their methods as specified in the model:</p>\n",
        "<ul>\n",
        "    <li><b>Identifiable Entity:</b> being the super class</li>\n",
        "    <li>Person</li>\n",
        "    <li>Publication</li>\n",
        "    <li>Venue</li>\n",
        "    <li>Oragnization</li>\n",
        "    <li>Journal Article</li>\n",
        "    <li>Book Chapter</li>\n",
        "    <li>Proceedings Paper</li>\n",
        "    <li>Journal</li>\n",
        "    <li>Book</li>\n",
        "    <li>Proceedings</li>\n",
        "</ul>"
      ]
    },
    {
      "cell_type": "markdown",
      "id": "a5d8c744",
      "metadata": {
        "id": "a5d8c744"
      },
      "source": [
        "<h2>Class Relational Processor</h2>"
      ]
    },
    {
      "cell_type": "markdown",
      "id": "da687284",
      "metadata": {
        "id": "da687284"
      },
      "source": [
        "<p>From the Relational Processor class the attributes getDbPath and setDbPath can be used to return the path of the database and enable a new database path. Those are used in the following way:</p>"
      ]
    },
    {
      "cell_type": "code",
      "execution_count": null,
      "id": "65f9dae4",
      "metadata": {
        "id": "65f9dae4"
      },
      "outputs": [],
      "source": [
        "rel_path = \"relational.db\"\n",
        "rel_dp = RelationalDataProcessor(rel_path)"
      ]
    },
    {
      "cell_type": "markdown",
      "id": "92f210af",
      "metadata": {
        "id": "92f210af"
      },
      "source": [
        "<em>It's important to use them in the order described. </em> "
      ]
    },
    {
      "cell_type": "markdown",
      "id": "215351e2",
      "metadata": {
        "id": "215351e2"
      },
      "source": [
        "<h2>Class Relational Data Processor</h2>"
      ]
    },
    {
      "cell_type": "markdown",
      "id": "b2568b2c",
      "metadata": {
        "id": "b2568b2c"
      },
      "source": [
        "<p>In this class you'll be able to find the uploadData method in which allows one to upload data, either in CSV or JSON file, into the database previously created with the methods from the Relational Processor class. And can be used as follows:</p>"
      ]
    },
    {
      "cell_type": "code",
      "execution_count": null,
      "id": "39909fe8",
      "metadata": {
        "id": "39909fe8"
      },
      "outputs": [],
      "source": [
        "rel_dp.uploadData(\"relational_publications.csv\")"
      ]
    },
    {
      "cell_type": "code",
      "execution_count": null,
      "id": "78f08a5c",
      "metadata": {
        "id": "78f08a5c"
      },
      "outputs": [],
      "source": [
        "rel_dp.uploadData(\"relational_other_data.json\")"
      ]
    },
    {
      "cell_type": "markdown",
      "id": "36228df2",
      "metadata": {
        "id": "36228df2"
      },
      "source": [
        "<p>After the database path is created and data is uploaded the following tables are created in the relational database:</p>\n",
        "<ul>\n",
        "    <li>Authors</li>\n",
        "    <li>Venues Id</li>\n",
        "    <li>References</li>\n",
        "    <li>Publishers</li>\n",
        "    <li>Publications</li>\n",
        "    <li>Journal Articles</li>\n",
        "    <li>Organization</li>\n",
        "    <li>Journals</li>\n",
        "    <li>Books</li>\n",
        "    <li>Proceedings</li>\n",
        "</ul>"
      ]
    },
    {
      "cell_type": "markdown",
      "id": "bceeba27",
      "metadata": {
        "id": "bceeba27"
      },
      "source": [
        "<h2>Class Relational Query Processor</h2>"
      ]
    },
    {
      "cell_type": "markdown",
      "id": "a11ffc71",
      "metadata": {
        "id": "a11ffc71"
      },
      "source": [
        "<p>In this class, one is able to query information from the database created according to the follwing methods:</p>\n",
        "<ul>\n",
        "    <li>getPublicationsPublishedinYear</li>\n",
        "    <li>getPublicationsByAuthorId</li>\n",
        "    <li>getMostCitedPublication</li>\n",
        "    <li>getMostCitedVenue</li>\n",
        "    <li>getVenuesByPublisherId</li>\n",
        "    <li>getPublicationInVenue</li>\n",
        "    <li>getJournalArticleInIssue</li>\n",
        "    <li>getJournalArticlesInVolume</li>\n",
        "    <li>getJournalArticlesInJournal</li>\n",
        "    <li>getProceedingsByEvent</li>\n",
        "    <li>getPublicationAuthors</li>\n",
        "    <li>getPublicationByAuthorName</li>\n",
        "    <li>getDistinctPublisherOfPublications</li>\n",
        "</ul>"
      ]
    },
    {
      "cell_type": "markdown",
      "id": "fc95af51",
      "metadata": {
        "id": "fc95af51"
      },
      "source": [
        "<h2>The Graph workflow</h2>"
      ]
    },
    {
      "cell_type": "markdown",
      "id": "dcbc0fd5",
      "metadata": {
        "id": "dcbc0fd5"
      },
      "source": [
        "Class TriplestoreProcessor"
      ]
    },
    {
      "cell_type": "code",
      "execution_count": null,
      "id": "b8a8012c",
      "metadata": {
        "id": "b8a8012c"
      },
      "outputs": [],
      "source": [
        "class TriplestoreProcessor(object):\n",
        "    def __init__(self, endpointUrl=\"\"): # the variable containing the URL of the SPARQL endpoint of the triplestore, initially set as an empty string, that will be updated with the method setEndpointUrl\n",
        "        self.endpointUrl = endpointUrl\n",
        "        \n",
        "    # Methods:\n",
        "    def getEndpointUrl(self):  # it returns the path of the database\n",
        "        return self.endpointUrl\n",
        "\n",
        "    def setEndpointUrl(self, newURL): # it enables to set a new URL for the SPARQL endpoint of the triplestore.\n",
        "        self.endpointUrl = newURL"
      ]
    },
    {
      "cell_type": "markdown",
      "id": "1fea8fcf",
      "metadata": {
        "id": "1fea8fcf"
      },
      "source": [
        "Class TriplestoreDataProcessor:"
      ]
    },
    {
      "cell_type": "code",
      "execution_count": null,
      "id": "7b3df80e",
      "metadata": {
        "id": "7b3df80e"
      },
      "outputs": [],
      "source": [
        "class TriplestoreDataProcessor(object):\n",
        "    def __init__(self):\n",
        "        self.Data = None\n",
        "\n",
        "    # Method:\n",
        "    def uploadData(self, Data): # it enables to upload the collection of data specified in the input file path (either in CSV or JSON) into the database.\n",
        "        self.Data = Data\n",
        "        with open(self.Data, \"r\", encoding=\"utf-8\") as f:\n",
        "            Data = reader(f)\n"
      ]
    },
    {
      "cell_type": "markdown",
      "id": "424c54ec",
      "metadata": {
        "id": "424c54ec"
      },
      "source": [
        "The first step of the creation of the data frame based on the RDF triplestore language has been the definition of all the classes, with attributes and relations. For doing this we needed to import the <em>Graph</em> and the <em>URIRef</em> components from <b>RDF library</b>. They allow to setup an empty graph ready to be populated."
      ]
    },
    {
      "cell_type": "code",
      "execution_count": null,
      "id": "2f3986db",
      "metadata": {
        "id": "2f3986db"
      },
      "outputs": [],
      "source": [
        "from rdflib import Graph\n",
        "\n",
        "my_graph = Graph()\n",
        "\n",
        "from rdflib import URIRef"
      ]
    },
    {
      "cell_type": "markdown",
      "id": "68c7f214",
      "metadata": {
        "id": "68c7f214"
      },
      "source": [
        "Then basically looking at the UML model provided we have been listing all the classes required for the resources and assigning for each class a URI, using the resources of schema.org and Fabio:"
      ]
    },
    {
      "cell_type": "code",
      "execution_count": null,
      "id": "d3c87358",
      "metadata": {
        "id": "d3c87358"
      },
      "outputs": [],
      "source": [
        "# classes of resources\n",
        "JournalArticle = URIRef(\"https://schema.org/ScholarlyArticle\")\n",
        "BookChapter = URIRef(\"https://schema.org/Chapter\")\n",
        "ProceedingsPaper = URIRef(\"http://purl.org/spar/fabio/ProceedingsPaper\")\n",
        "Journal = URIRef(\"https://schema.org/Periodical\")\n",
        "Book = URIRef(\"https://schema.org/Book\")\n",
        "Proceedings = URIRef(\"http://purl.org/spar/fabio/AcademicProceedings\")\n",
        "Publication = URIRef(\"https://schema.org/publication\")\n"
      ]
    },
    {
      "cell_type": "markdown",
      "id": "d038c13b",
      "metadata": {
        "id": "d038c13b"
      },
      "source": [
        "Same process has been done for attributes and relations among classes:"
      ]
    },
    {
      "cell_type": "code",
      "execution_count": null,
      "id": "c49bb4c9",
      "metadata": {
        "id": "c49bb4c9"
      },
      "outputs": [],
      "source": [
        "# attributes related to classes\n",
        "publicationYear = URIRef(\"https://schema.org/datePublished\")\n",
        "title = URIRef(\"http://purl.org/dc/terms/title\")\n",
        "issue = URIRef(\"https://schema.org/issueNumber\")\n",
        "volume = URIRef(\"https://schema.org/volumeNumber\")\n",
        "identifier = URIRef(\"https://schema.org/identifier\")\n",
        "name = URIRef(\"https://schema.org/name\")\n",
        "event = URIRef(\"https://schema.org/Event\")\n",
        "chapterNumber = URIRef(\"https://github.com/lelax/D_Sign_Data/blob/main/URIRef/chapterNumber\")\n",
        "givenName = URIRef (\"https://schema.org/givenName\")\n",
        "familyName = URIRef (\"https://schema.org/familyName\")\n",
        "\n",
        "# relations among classes\n",
        "publicationVenue = URIRef(\"https://schema.org/isPartOf\")\n",
        "publisher = URIRef (\"https://schema.org/publishedBy\")\n",
        "author = URIRef (\"http://purl.org/saws/ontology#isWrittenBy\")\n",
        "cites = URIRef (\"https://schema.org/citation\")"
      ]
    },
    {
      "cell_type": "markdown",
      "id": "18e1b014",
      "metadata": {
        "id": "18e1b014"
      },
      "source": [
        "Values to specify as objects of RDF statements can be created using the class Literal:"
      ]
    },
    {
      "cell_type": "code",
      "execution_count": null,
      "id": "a7177c2b",
      "metadata": {
        "id": "a7177c2b"
      },
      "outputs": [],
      "source": [
        "from rdflib import Literal\n",
        "\n",
        "a_string = Literal(\"a string\")\n",
        "a_number = Literal(42)\n",
        "a_boolean = Literal(True)"
      ]
    },
    {
      "cell_type": "markdown",
      "id": "575ff2d9",
      "metadata": {
        "id": "575ff2d9"
      },
      "source": [
        "The following code show how we populates the RDF graph defining using the data obtained by processing the CSV file:"
      ]
    },
    {
      "cell_type": "code",
      "execution_count": null,
      "id": "60cb7125",
      "metadata": {
        "id": "60cb7125"
      },
      "outputs": [],
      "source": [
        "from pandas import read_csv, Series\n",
        "from rdflib import RDF\n",
        "\n",
        "base_url = \"https://github.com/lelax/D_Sign_Data\"\n",
        "\n",
        "publications = read_csv(\"graph_publications.csv\", \n",
        "                 keep_default_na=False,\n",
        "                 dtype={\n",
        "                     \"id\": \"string\",\n",
        "                     \"title\": \"string\",\n",
        "                     \"type\": \"string\",\n",
        "                     \"publication_year\": \"int\",\n",
        "                     \"publication_venue\": \"string\",\n",
        "                     \"issue\": \"string\",\n",
        "                     \"volume\": \"string\",\n",
        "                     \"chapter\": \"string\",\n",
        "                  })\n",
        "\n",
        "for idx, row in publications.iterrows():\n",
        "    local_id = \"publication-\" + str(idx)\n",
        "    \n",
        "    subj = URIRef(base_url + local_id)\n",
        "\n",
        "    if row[\"type\"] == \"journal-article\":\n",
        "        my_graph.add((subj, RDF.type, JournalArticle))\n",
        "        # These two statements applies only to journal articles\n",
        "        my_graph.add((subj, issue, Literal(row[\"issue\"])))\n",
        "        my_graph.add((subj, volume, Literal(row[\"volume\"])))\n",
        "    elif row[\"type\"] == \"book-chapter\":\n",
        "        my_graph.add((subj, RDF.type, BookChapter))\n",
        "        #This statement applies only to book chapters\n",
        "        my_graph.add((subj, chapterNumber, Literal(row[\"chapter\"])))\n",
        "    else: \n",
        "        my_graph.add((subj, RDF.type, ProceedingsPaper))\n",
        "\n",
        "    my_graph.add((subj, cites, Publication))\n",
        "    my_graph.add((subj, title, Literal(row[\"title\"])))\n",
        "    my_graph.add((subj, publicationYear, Literal(str(row[\"publication_year\"]))))\n",
        "    my_graph.add((subj, publicationVenue, Literal(row[\"publication_venue\"])))\n",
        "    my_graph.add((subj, identifier, Literal(str(row[\"id\"]))))\n",
        "\n",
        "\n",
        "\n",
        "venues = read_csv(\"graph_publications.csv\", \n",
        "                 keep_default_na=False,\n",
        "                 dtype={\n",
        "                     \"venue_type\": \"string\",\n",
        "                     \"publisher\": \"string\",\n",
        "                     \"event\": \"string\"\n",
        "                  })\n",
        "\n",
        "for idx, row in venues.iterrows():\n",
        "    local_id = \"venues-\" + str(idx)\n",
        "    \n",
        "    subj = URIRef(base_url + local_id)\n",
        "\n",
        "    if row[\"venue_type\"] == \"journal\":\n",
        "        my_graph.add((subj, RDF.type, Journal))\n",
        "    elif row[\"venue_type\"] == \"book\":\n",
        "        my_graph.add((subj, RDF.type, BookChapter))\n",
        "    else:\n",
        "        my_graph.add((subj, RDF.type, Proceedings))\n",
        "        #This statement applies only to proceedings\n",
        "        my_graph.add((subj, event, Literal(row[\"event\"])))\n",
        "        \n",
        "    my_graph.add((subj, publisher, Literal(row[\"publisher\"])))"
      ]
    },
    {
      "cell_type": "markdown",
      "id": "4c393255",
      "metadata": {
        "id": "4c393255"
      },
      "source": [
        "We can now test how many RDF triples we added to the RDF graph:"
      ]
    },
    {
      "cell_type": "code",
      "execution_count": null,
      "id": "5246c757",
      "metadata": {
        "id": "5246c757"
      },
      "outputs": [],
      "source": [
        "print(\"-- Number of triples added to the graph after processing the venues\")\n",
        "print(len(my_graph))"
      ]
    },
    {
      "cell_type": "markdown",
      "id": "4c0406ce",
      "metadata": {
        "id": "4c0406ce"
      },
      "source": [
        "Then we have imported also the constructor <em>Literal</em> for the string, number and boolean variables to be used as attributes of the triples."
      ]
    },
    {
      "cell_type": "markdown",
      "id": "295b95ad",
      "metadata": {
        "id": "295b95ad"
      },
      "source": [
        "At this point we could start the implementation of the <b>RDF Triplestore</b> and start testing and querying the data provided in the <em>graph_publication.csv</em> file."
      ]
    },
    {
      "cell_type": "markdown",
      "id": "d1b5cfd1",
      "metadata": {
        "id": "d1b5cfd1"
      },
      "source": [
        "<h2>Class Generic Query Processor</h2>"
      ]
    },
    {
      "cell_type": "markdown",
      "id": "d7589421",
      "metadata": {
        "id": "d7589421"
      },
      "source": [
        "We have defined the class <em>GenericQueryProcessor</em> in order to define also the functions to collect all the query result and store them in an array."
      ]
    },
    {
      "cell_type": "code",
      "execution_count": null,
      "id": "50d61c6e",
      "metadata": {
        "id": "50d61c6e"
      },
      "outputs": [],
      "source": [
        "class GenericQueryProcessor():\n",
        "    qps = []\n",
        "\n",
        "    def addQueryProcessor(qp):\n",
        "        qps.append(qp)"
      ]
    },
    {
      "cell_type": "markdown",
      "id": "f184c373",
      "metadata": {
        "id": "f184c373"
      },
      "source": [
        "Then we added for each method a function calling it and appending all the result by using an iteration."
      ]
    },
    {
      "cell_type": "markdown",
      "source": [
        "## Data Analysis"
      ],
      "metadata": {
        "id": "MNVdxYKvxoj9"
      },
      "id": "MNVdxYKvxoj9"
    },
    {
      "cell_type": "code",
      "source": [
        "import pandas as pd\n",
        "from pandas import read_csv\n",
        "url = 'https://raw.githubusercontent.com/lelax/D_Sign_Data/main/import/relational_publications.csv'\n",
        "publications = pd.read_csv(url)\n",
        "publications.info()"
      ],
      "metadata": {
        "colab": {
          "base_uri": "https://localhost:8080/"
        },
        "id": "4_k6fWfNzJZS",
        "outputId": "72f3692b-7997-4b06-d41e-695a8b3a98f1"
      },
      "id": "4_k6fWfNzJZS",
      "execution_count": null,
      "outputs": [
        {
          "output_type": "stream",
          "name": "stdout",
          "text": [
            "<class 'pandas.core.frame.DataFrame'>\n",
            "RangeIndex: 500 entries, 0 to 499\n",
            "Data columns (total 11 columns):\n",
            " #   Column             Non-Null Count  Dtype  \n",
            "---  ------             --------------  -----  \n",
            " 0   id                 500 non-null    object \n",
            " 1   title              500 non-null    object \n",
            " 2   type               500 non-null    object \n",
            " 3   publication_year   500 non-null    int64  \n",
            " 4   issue              347 non-null    object \n",
            " 5   volume             443 non-null    object \n",
            " 6   chapter            22 non-null     float64\n",
            " 7   publication_venue  498 non-null    object \n",
            " 8   venue_type         498 non-null    object \n",
            " 9   publisher          498 non-null    object \n",
            " 10  event              0 non-null      float64\n",
            "dtypes: float64(2), int64(1), object(8)\n",
            "memory usage: 43.1+ KB\n"
          ]
        }
      ]
    },
    {
      "cell_type": "markdown",
      "source": [
        "Getting information from the data above is possible to observe we have a dataset of 500 rows, in which, at all times only the fields id, title, type and publication_year have a 100% non-null value specified, considering that we're already using the default configuration to obtain the information provided."
      ],
      "metadata": {
        "id": "_ZjXfM86znhW"
      },
      "id": "_ZjXfM86znhW"
    },
    {
      "cell_type": "code",
      "source": [
        "publications.describe(include=\"all\")"
      ],
      "metadata": {
        "colab": {
          "base_uri": "https://localhost:8080/",
          "height": 528
        },
        "id": "kOtvOwgb0th_",
        "outputId": "6614a698-50ae-4ba5-c282-9e31fcf38142"
      },
      "id": "kOtvOwgb0th_",
      "execution_count": null,
      "outputs": [
        {
          "output_type": "execute_result",
          "data": {
            "text/plain": [
              "                             id  \\\n",
              "count                       500   \n",
              "unique                      500   \n",
              "top     doi:10.1162/qss_a_00023   \n",
              "freq                          1   \n",
              "mean                        NaN   \n",
              "std                         NaN   \n",
              "min                         NaN   \n",
              "25%                         NaN   \n",
              "50%                         NaN   \n",
              "75%                         NaN   \n",
              "max                         NaN   \n",
              "\n",
              "                                                    title             type  \\\n",
              "count                                                 500              500   \n",
              "unique                                                500                2   \n",
              "top     Opencitations, An Infrastructure Organization ...  journal-article   \n",
              "freq                                                    1              478   \n",
              "mean                                                  NaN              NaN   \n",
              "std                                                   NaN              NaN   \n",
              "min                                                   NaN              NaN   \n",
              "25%                                                   NaN              NaN   \n",
              "50%                                                   NaN              NaN   \n",
              "75%                                                   NaN              NaN   \n",
              "max                                                   NaN              NaN   \n",
              "\n",
              "        publication_year issue volume    chapter publication_venue venue_type  \\\n",
              "count         500.000000   347    443  22.000000               498        498   \n",
              "unique               NaN    31    149        NaN               295          2   \n",
              "top                  NaN     1     11        NaN    Scientometrics    journal   \n",
              "freq                 NaN    69     29        NaN                50        478   \n",
              "mean         2019.558000   NaN    NaN   0.909091               NaN        NaN   \n",
              "std             1.512353   NaN    NaN   0.294245               NaN        NaN   \n",
              "min          2014.000000   NaN    NaN   0.000000               NaN        NaN   \n",
              "25%          2018.000000   NaN    NaN   1.000000               NaN        NaN   \n",
              "50%          2020.000000   NaN    NaN   1.000000               NaN        NaN   \n",
              "75%          2021.000000   NaN    NaN   1.000000               NaN        NaN   \n",
              "max          2021.000000   NaN    NaN   1.000000               NaN        NaN   \n",
              "\n",
              "           publisher  event  \n",
              "count            498    0.0  \n",
              "unique            32    NaN  \n",
              "top     crossref:297    NaN  \n",
              "freq             145    NaN  \n",
              "mean             NaN    NaN  \n",
              "std              NaN    NaN  \n",
              "min              NaN    NaN  \n",
              "25%              NaN    NaN  \n",
              "50%              NaN    NaN  \n",
              "75%              NaN    NaN  \n",
              "max              NaN    NaN  "
            ],
            "text/html": [
              "\n",
              "  <div id=\"df-d3d0ab42-6253-4374-865c-56572b1044b1\">\n",
              "    <div class=\"colab-df-container\">\n",
              "      <div>\n",
              "<style scoped>\n",
              "    .dataframe tbody tr th:only-of-type {\n",
              "        vertical-align: middle;\n",
              "    }\n",
              "\n",
              "    .dataframe tbody tr th {\n",
              "        vertical-align: top;\n",
              "    }\n",
              "\n",
              "    .dataframe thead th {\n",
              "        text-align: right;\n",
              "    }\n",
              "</style>\n",
              "<table border=\"1\" class=\"dataframe\">\n",
              "  <thead>\n",
              "    <tr style=\"text-align: right;\">\n",
              "      <th></th>\n",
              "      <th>id</th>\n",
              "      <th>title</th>\n",
              "      <th>type</th>\n",
              "      <th>publication_year</th>\n",
              "      <th>issue</th>\n",
              "      <th>volume</th>\n",
              "      <th>chapter</th>\n",
              "      <th>publication_venue</th>\n",
              "      <th>venue_type</th>\n",
              "      <th>publisher</th>\n",
              "      <th>event</th>\n",
              "    </tr>\n",
              "  </thead>\n",
              "  <tbody>\n",
              "    <tr>\n",
              "      <th>count</th>\n",
              "      <td>500</td>\n",
              "      <td>500</td>\n",
              "      <td>500</td>\n",
              "      <td>500.000000</td>\n",
              "      <td>347</td>\n",
              "      <td>443</td>\n",
              "      <td>22.000000</td>\n",
              "      <td>498</td>\n",
              "      <td>498</td>\n",
              "      <td>498</td>\n",
              "      <td>0.0</td>\n",
              "    </tr>\n",
              "    <tr>\n",
              "      <th>unique</th>\n",
              "      <td>500</td>\n",
              "      <td>500</td>\n",
              "      <td>2</td>\n",
              "      <td>NaN</td>\n",
              "      <td>31</td>\n",
              "      <td>149</td>\n",
              "      <td>NaN</td>\n",
              "      <td>295</td>\n",
              "      <td>2</td>\n",
              "      <td>32</td>\n",
              "      <td>NaN</td>\n",
              "    </tr>\n",
              "    <tr>\n",
              "      <th>top</th>\n",
              "      <td>doi:10.1162/qss_a_00023</td>\n",
              "      <td>Opencitations, An Infrastructure Organization ...</td>\n",
              "      <td>journal-article</td>\n",
              "      <td>NaN</td>\n",
              "      <td>1</td>\n",
              "      <td>11</td>\n",
              "      <td>NaN</td>\n",
              "      <td>Scientometrics</td>\n",
              "      <td>journal</td>\n",
              "      <td>crossref:297</td>\n",
              "      <td>NaN</td>\n",
              "    </tr>\n",
              "    <tr>\n",
              "      <th>freq</th>\n",
              "      <td>1</td>\n",
              "      <td>1</td>\n",
              "      <td>478</td>\n",
              "      <td>NaN</td>\n",
              "      <td>69</td>\n",
              "      <td>29</td>\n",
              "      <td>NaN</td>\n",
              "      <td>50</td>\n",
              "      <td>478</td>\n",
              "      <td>145</td>\n",
              "      <td>NaN</td>\n",
              "    </tr>\n",
              "    <tr>\n",
              "      <th>mean</th>\n",
              "      <td>NaN</td>\n",
              "      <td>NaN</td>\n",
              "      <td>NaN</td>\n",
              "      <td>2019.558000</td>\n",
              "      <td>NaN</td>\n",
              "      <td>NaN</td>\n",
              "      <td>0.909091</td>\n",
              "      <td>NaN</td>\n",
              "      <td>NaN</td>\n",
              "      <td>NaN</td>\n",
              "      <td>NaN</td>\n",
              "    </tr>\n",
              "    <tr>\n",
              "      <th>std</th>\n",
              "      <td>NaN</td>\n",
              "      <td>NaN</td>\n",
              "      <td>NaN</td>\n",
              "      <td>1.512353</td>\n",
              "      <td>NaN</td>\n",
              "      <td>NaN</td>\n",
              "      <td>0.294245</td>\n",
              "      <td>NaN</td>\n",
              "      <td>NaN</td>\n",
              "      <td>NaN</td>\n",
              "      <td>NaN</td>\n",
              "    </tr>\n",
              "    <tr>\n",
              "      <th>min</th>\n",
              "      <td>NaN</td>\n",
              "      <td>NaN</td>\n",
              "      <td>NaN</td>\n",
              "      <td>2014.000000</td>\n",
              "      <td>NaN</td>\n",
              "      <td>NaN</td>\n",
              "      <td>0.000000</td>\n",
              "      <td>NaN</td>\n",
              "      <td>NaN</td>\n",
              "      <td>NaN</td>\n",
              "      <td>NaN</td>\n",
              "    </tr>\n",
              "    <tr>\n",
              "      <th>25%</th>\n",
              "      <td>NaN</td>\n",
              "      <td>NaN</td>\n",
              "      <td>NaN</td>\n",
              "      <td>2018.000000</td>\n",
              "      <td>NaN</td>\n",
              "      <td>NaN</td>\n",
              "      <td>1.000000</td>\n",
              "      <td>NaN</td>\n",
              "      <td>NaN</td>\n",
              "      <td>NaN</td>\n",
              "      <td>NaN</td>\n",
              "    </tr>\n",
              "    <tr>\n",
              "      <th>50%</th>\n",
              "      <td>NaN</td>\n",
              "      <td>NaN</td>\n",
              "      <td>NaN</td>\n",
              "      <td>2020.000000</td>\n",
              "      <td>NaN</td>\n",
              "      <td>NaN</td>\n",
              "      <td>1.000000</td>\n",
              "      <td>NaN</td>\n",
              "      <td>NaN</td>\n",
              "      <td>NaN</td>\n",
              "      <td>NaN</td>\n",
              "    </tr>\n",
              "    <tr>\n",
              "      <th>75%</th>\n",
              "      <td>NaN</td>\n",
              "      <td>NaN</td>\n",
              "      <td>NaN</td>\n",
              "      <td>2021.000000</td>\n",
              "      <td>NaN</td>\n",
              "      <td>NaN</td>\n",
              "      <td>1.000000</td>\n",
              "      <td>NaN</td>\n",
              "      <td>NaN</td>\n",
              "      <td>NaN</td>\n",
              "      <td>NaN</td>\n",
              "    </tr>\n",
              "    <tr>\n",
              "      <th>max</th>\n",
              "      <td>NaN</td>\n",
              "      <td>NaN</td>\n",
              "      <td>NaN</td>\n",
              "      <td>2021.000000</td>\n",
              "      <td>NaN</td>\n",
              "      <td>NaN</td>\n",
              "      <td>1.000000</td>\n",
              "      <td>NaN</td>\n",
              "      <td>NaN</td>\n",
              "      <td>NaN</td>\n",
              "      <td>NaN</td>\n",
              "    </tr>\n",
              "  </tbody>\n",
              "</table>\n",
              "</div>\n",
              "      <button class=\"colab-df-convert\" onclick=\"convertToInteractive('df-d3d0ab42-6253-4374-865c-56572b1044b1')\"\n",
              "              title=\"Convert this dataframe to an interactive table.\"\n",
              "              style=\"display:none;\">\n",
              "        \n",
              "  <svg xmlns=\"http://www.w3.org/2000/svg\" height=\"24px\"viewBox=\"0 0 24 24\"\n",
              "       width=\"24px\">\n",
              "    <path d=\"M0 0h24v24H0V0z\" fill=\"none\"/>\n",
              "    <path d=\"M18.56 5.44l.94 2.06.94-2.06 2.06-.94-2.06-.94-.94-2.06-.94 2.06-2.06.94zm-11 1L8.5 8.5l.94-2.06 2.06-.94-2.06-.94L8.5 2.5l-.94 2.06-2.06.94zm10 10l.94 2.06.94-2.06 2.06-.94-2.06-.94-.94-2.06-.94 2.06-2.06.94z\"/><path d=\"M17.41 7.96l-1.37-1.37c-.4-.4-.92-.59-1.43-.59-.52 0-1.04.2-1.43.59L10.3 9.45l-7.72 7.72c-.78.78-.78 2.05 0 2.83L4 21.41c.39.39.9.59 1.41.59.51 0 1.02-.2 1.41-.59l7.78-7.78 2.81-2.81c.8-.78.8-2.07 0-2.86zM5.41 20L4 18.59l7.72-7.72 1.47 1.35L5.41 20z\"/>\n",
              "  </svg>\n",
              "      </button>\n",
              "      \n",
              "  <style>\n",
              "    .colab-df-container {\n",
              "      display:flex;\n",
              "      flex-wrap:wrap;\n",
              "      gap: 12px;\n",
              "    }\n",
              "\n",
              "    .colab-df-convert {\n",
              "      background-color: #E8F0FE;\n",
              "      border: none;\n",
              "      border-radius: 50%;\n",
              "      cursor: pointer;\n",
              "      display: none;\n",
              "      fill: #1967D2;\n",
              "      height: 32px;\n",
              "      padding: 0 0 0 0;\n",
              "      width: 32px;\n",
              "    }\n",
              "\n",
              "    .colab-df-convert:hover {\n",
              "      background-color: #E2EBFA;\n",
              "      box-shadow: 0px 1px 2px rgba(60, 64, 67, 0.3), 0px 1px 3px 1px rgba(60, 64, 67, 0.15);\n",
              "      fill: #174EA6;\n",
              "    }\n",
              "\n",
              "    [theme=dark] .colab-df-convert {\n",
              "      background-color: #3B4455;\n",
              "      fill: #D2E3FC;\n",
              "    }\n",
              "\n",
              "    [theme=dark] .colab-df-convert:hover {\n",
              "      background-color: #434B5C;\n",
              "      box-shadow: 0px 1px 3px 1px rgba(0, 0, 0, 0.15);\n",
              "      filter: drop-shadow(0px 1px 2px rgba(0, 0, 0, 0.3));\n",
              "      fill: #FFFFFF;\n",
              "    }\n",
              "  </style>\n",
              "\n",
              "      <script>\n",
              "        const buttonEl =\n",
              "          document.querySelector('#df-d3d0ab42-6253-4374-865c-56572b1044b1 button.colab-df-convert');\n",
              "        buttonEl.style.display =\n",
              "          google.colab.kernel.accessAllowed ? 'block' : 'none';\n",
              "\n",
              "        async function convertToInteractive(key) {\n",
              "          const element = document.querySelector('#df-d3d0ab42-6253-4374-865c-56572b1044b1');\n",
              "          const dataTable =\n",
              "            await google.colab.kernel.invokeFunction('convertToInteractive',\n",
              "                                                     [key], {});\n",
              "          if (!dataTable) return;\n",
              "\n",
              "          const docLinkHtml = 'Like what you see? Visit the ' +\n",
              "            '<a target=\"_blank\" href=https://colab.research.google.com/notebooks/data_table.ipynb>data table notebook</a>'\n",
              "            + ' to learn more about interactive tables.';\n",
              "          element.innerHTML = '';\n",
              "          dataTable['output_type'] = 'display_data';\n",
              "          await google.colab.output.renderOutput(dataTable, element);\n",
              "          const docLink = document.createElement('div');\n",
              "          docLink.innerHTML = docLinkHtml;\n",
              "          element.appendChild(docLink);\n",
              "        }\n",
              "      </script>\n",
              "    </div>\n",
              "  </div>\n",
              "  "
            ]
          },
          "metadata": {},
          "execution_count": 7
        }
      ]
    },
    {
      "cell_type": "code",
      "source": [
        "publications.query('title == \"Opencitations, An Infrastructure Organization\"')"
      ],
      "metadata": {
        "colab": {
          "base_uri": "https://localhost:8080/",
          "height": 49
        },
        "id": "7-pIsiZb1eg9",
        "outputId": "7cdb106f-2026-41ab-abf1-746121e7d78c"
      },
      "id": "7-pIsiZb1eg9",
      "execution_count": null,
      "outputs": [
        {
          "output_type": "execute_result",
          "data": {
            "text/plain": [
              "Empty DataFrame\n",
              "Columns: [id, title, type, publication_year, issue, volume, chapter, publication_venue, venue_type, publisher, event]\n",
              "Index: []"
            ],
            "text/html": [
              "\n",
              "  <div id=\"df-dbd55899-fa3f-4766-a8ff-70044f626105\">\n",
              "    <div class=\"colab-df-container\">\n",
              "      <div>\n",
              "<style scoped>\n",
              "    .dataframe tbody tr th:only-of-type {\n",
              "        vertical-align: middle;\n",
              "    }\n",
              "\n",
              "    .dataframe tbody tr th {\n",
              "        vertical-align: top;\n",
              "    }\n",
              "\n",
              "    .dataframe thead th {\n",
              "        text-align: right;\n",
              "    }\n",
              "</style>\n",
              "<table border=\"1\" class=\"dataframe\">\n",
              "  <thead>\n",
              "    <tr style=\"text-align: right;\">\n",
              "      <th></th>\n",
              "      <th>id</th>\n",
              "      <th>title</th>\n",
              "      <th>type</th>\n",
              "      <th>publication_year</th>\n",
              "      <th>issue</th>\n",
              "      <th>volume</th>\n",
              "      <th>chapter</th>\n",
              "      <th>publication_venue</th>\n",
              "      <th>venue_type</th>\n",
              "      <th>publisher</th>\n",
              "      <th>event</th>\n",
              "    </tr>\n",
              "  </thead>\n",
              "  <tbody>\n",
              "  </tbody>\n",
              "</table>\n",
              "</div>\n",
              "      <button class=\"colab-df-convert\" onclick=\"convertToInteractive('df-dbd55899-fa3f-4766-a8ff-70044f626105')\"\n",
              "              title=\"Convert this dataframe to an interactive table.\"\n",
              "              style=\"display:none;\">\n",
              "        \n",
              "  <svg xmlns=\"http://www.w3.org/2000/svg\" height=\"24px\"viewBox=\"0 0 24 24\"\n",
              "       width=\"24px\">\n",
              "    <path d=\"M0 0h24v24H0V0z\" fill=\"none\"/>\n",
              "    <path d=\"M18.56 5.44l.94 2.06.94-2.06 2.06-.94-2.06-.94-.94-2.06-.94 2.06-2.06.94zm-11 1L8.5 8.5l.94-2.06 2.06-.94-2.06-.94L8.5 2.5l-.94 2.06-2.06.94zm10 10l.94 2.06.94-2.06 2.06-.94-2.06-.94-.94-2.06-.94 2.06-2.06.94z\"/><path d=\"M17.41 7.96l-1.37-1.37c-.4-.4-.92-.59-1.43-.59-.52 0-1.04.2-1.43.59L10.3 9.45l-7.72 7.72c-.78.78-.78 2.05 0 2.83L4 21.41c.39.39.9.59 1.41.59.51 0 1.02-.2 1.41-.59l7.78-7.78 2.81-2.81c.8-.78.8-2.07 0-2.86zM5.41 20L4 18.59l7.72-7.72 1.47 1.35L5.41 20z\"/>\n",
              "  </svg>\n",
              "      </button>\n",
              "      \n",
              "  <style>\n",
              "    .colab-df-container {\n",
              "      display:flex;\n",
              "      flex-wrap:wrap;\n",
              "      gap: 12px;\n",
              "    }\n",
              "\n",
              "    .colab-df-convert {\n",
              "      background-color: #E8F0FE;\n",
              "      border: none;\n",
              "      border-radius: 50%;\n",
              "      cursor: pointer;\n",
              "      display: none;\n",
              "      fill: #1967D2;\n",
              "      height: 32px;\n",
              "      padding: 0 0 0 0;\n",
              "      width: 32px;\n",
              "    }\n",
              "\n",
              "    .colab-df-convert:hover {\n",
              "      background-color: #E2EBFA;\n",
              "      box-shadow: 0px 1px 2px rgba(60, 64, 67, 0.3), 0px 1px 3px 1px rgba(60, 64, 67, 0.15);\n",
              "      fill: #174EA6;\n",
              "    }\n",
              "\n",
              "    [theme=dark] .colab-df-convert {\n",
              "      background-color: #3B4455;\n",
              "      fill: #D2E3FC;\n",
              "    }\n",
              "\n",
              "    [theme=dark] .colab-df-convert:hover {\n",
              "      background-color: #434B5C;\n",
              "      box-shadow: 0px 1px 3px 1px rgba(0, 0, 0, 0.15);\n",
              "      filter: drop-shadow(0px 1px 2px rgba(0, 0, 0, 0.3));\n",
              "      fill: #FFFFFF;\n",
              "    }\n",
              "  </style>\n",
              "\n",
              "      <script>\n",
              "        const buttonEl =\n",
              "          document.querySelector('#df-dbd55899-fa3f-4766-a8ff-70044f626105 button.colab-df-convert');\n",
              "        buttonEl.style.display =\n",
              "          google.colab.kernel.accessAllowed ? 'block' : 'none';\n",
              "\n",
              "        async function convertToInteractive(key) {\n",
              "          const element = document.querySelector('#df-dbd55899-fa3f-4766-a8ff-70044f626105');\n",
              "          const dataTable =\n",
              "            await google.colab.kernel.invokeFunction('convertToInteractive',\n",
              "                                                     [key], {});\n",
              "          if (!dataTable) return;\n",
              "\n",
              "          const docLinkHtml = 'Like what you see? Visit the ' +\n",
              "            '<a target=\"_blank\" href=https://colab.research.google.com/notebooks/data_table.ipynb>data table notebook</a>'\n",
              "            + ' to learn more about interactive tables.';\n",
              "          element.innerHTML = '';\n",
              "          dataTable['output_type'] = 'display_data';\n",
              "          await google.colab.output.renderOutput(dataTable, element);\n",
              "          const docLink = document.createElement('div');\n",
              "          docLink.innerHTML = docLinkHtml;\n",
              "          element.appendChild(docLink);\n",
              "        }\n",
              "      </script>\n",
              "    </div>\n",
              "  </div>\n",
              "  "
            ]
          },
          "metadata": {},
          "execution_count": 10
        }
      ]
    },
    {
      "cell_type": "code",
      "source": [
        "print(\"--Median value of the publication years in the data\")\n",
        "print(publications[\"publication_year\"].median())"
      ],
      "metadata": {
        "colab": {
          "base_uri": "https://localhost:8080/"
        },
        "id": "ioscKfoD2Eg1",
        "outputId": "40dd3a88-06c3-4409-f3e3-6bcf8df2a229"
      },
      "id": "ioscKfoD2Eg1",
      "execution_count": null,
      "outputs": [
        {
          "output_type": "stream",
          "name": "stdout",
          "text": [
            "--Median value of the publication years in the data\n",
            "2020.0\n"
          ]
        }
      ]
    },
    {
      "cell_type": "code",
      "source": [
        "print(\"--Categories describing types of publications\")\n",
        "publications[\"type\"].unique()"
      ],
      "metadata": {
        "colab": {
          "base_uri": "https://localhost:8080/"
        },
        "id": "29uVuFOy2Wl6",
        "outputId": "50e299e8-2007-4549-fb86-34027b6e0be4"
      },
      "id": "29uVuFOy2Wl6",
      "execution_count": null,
      "outputs": [
        {
          "output_type": "stream",
          "name": "stdout",
          "text": [
            "--Categories describing types of publications\n"
          ]
        },
        {
          "output_type": "execute_result",
          "data": {
            "text/plain": [
              "array(['journal-article', 'book-chapter'], dtype=object)"
            ]
          },
          "metadata": {},
          "execution_count": 12
        }
      ]
    },
    {
      "cell_type": "markdown",
      "source": [
        "**Drawing Data**"
      ],
      "metadata": {
        "id": "xveJvqxE2sMa"
      },
      "id": "xveJvqxE2sMa"
    },
    {
      "cell_type": "code",
      "source": [
        "type_count = publications[\"type\"].value_counts()\n",
        "type_count"
      ],
      "metadata": {
        "colab": {
          "base_uri": "https://localhost:8080/"
        },
        "id": "DjRQEYBQ2x3N",
        "outputId": "da7d1dd8-9842-44e3-ae68-9f4b2c0282de"
      },
      "id": "DjRQEYBQ2x3N",
      "execution_count": null,
      "outputs": [
        {
          "output_type": "execute_result",
          "data": {
            "text/plain": [
              "journal-article    478\n",
              "book-chapter        22\n",
              "Name: type, dtype: int64"
            ]
          },
          "metadata": {},
          "execution_count": 13
        }
      ]
    },
    {
      "cell_type": "code",
      "source": [
        "type_count.plot(kind=\"bar\")"
      ],
      "metadata": {
        "colab": {
          "base_uri": "https://localhost:8080/",
          "height": 345
        },
        "id": "HWeGcwWC3Ayf",
        "outputId": "71e52a3b-0add-436b-c0e1-bf6a577d8418"
      },
      "id": "HWeGcwWC3Ayf",
      "execution_count": null,
      "outputs": [
        {
          "output_type": "execute_result",
          "data": {
            "text/plain": [
              "<matplotlib.axes._subplots.AxesSubplot at 0x7f231c792950>"
            ]
          },
          "metadata": {},
          "execution_count": 15
        },
        {
          "output_type": "display_data",
          "data": {
            "text/plain": [
              "<Figure size 432x288 with 1 Axes>"
            ],
            "image/png": "[encoded data removed]"
          },
          "metadata": {
            "needs_background": "light"
          }
        }
      ]
    },
    {
      "cell_type": "code",
      "source": [
        "best_venues = publications[\"publication_venue\"].value_counts()[:10]\n",
        "best_venues"
      ],
      "metadata": {
        "colab": {
          "base_uri": "https://localhost:8080/"
        },
        "id": "GK__aD7m3O3R",
        "outputId": "730a3e78-e58d-4288-be0b-11bd3c8ebb9f"
      },
      "id": "GK__aD7m3O3R",
      "execution_count": null,
      "outputs": [
        {
          "output_type": "execute_result",
          "data": {
            "text/plain": [
              "Scientometrics                                                       50\n",
              "Sustainability                                                       30\n",
              "International Journal Of Environmental Research And Public Health    14\n",
              "Journal Of Informetrics                                               9\n",
              "Journal Of Cleaner Production                                         9\n",
              "The Canadian Journal Of Chemical Engineering                          8\n",
              "Energies                                                              8\n",
              "Technological Forecasting And Social Change                           6\n",
              "Journal Of The Association For Information Science And Technology     6\n",
              "Plos One                                                              5\n",
              "Name: publication_venue, dtype: int64"
            ]
          },
          "metadata": {},
          "execution_count": 17
        }
      ]
    },
    {
      "cell_type": "code",
      "source": [
        "best_venues.plot(kind=\"barh\")"
      ],
      "metadata": {
        "colab": {
          "base_uri": "https://localhost:8080/",
          "height": 282
        },
        "id": "Uh-eJU_i3mFA",
        "outputId": "163dfd88-b491-47df-ca50-a9cb400fa2a6"
      },
      "id": "Uh-eJU_i3mFA",
      "execution_count": null,
      "outputs": [
        {
          "output_type": "execute_result",
          "data": {
            "text/plain": [
              "<matplotlib.axes._subplots.AxesSubplot at 0x7f231c692c50>"
            ]
          },
          "metadata": {},
          "execution_count": 20
        },
        {
          "output_type": "display_data",
          "data": {
            "text/plain": [
              "<Figure size 432x288 with 1 Axes>"
            ],
            "image/png": "[encoded data removed]"
          },
          "metadata": {
            "needs_background": "light"
          }
        }
      ]
    },
    {
      "cell_type": "code",
      "source": [
        "publications_per_year = publications[\"publication_year\"].value_counts()\n",
        "publications_per_year"
      ],
      "metadata": {
        "colab": {
          "base_uri": "https://localhost:8080/"
        },
        "id": "uXiSEQIK33S5",
        "outputId": "97aa68ba-ae92-4983-c542-5ed46d87df55"
      },
      "id": "uXiSEQIK33S5",
      "execution_count": null,
      "outputs": [
        {
          "output_type": "execute_result",
          "data": {
            "text/plain": [
              "2021    209\n",
              "2019    109\n",
              "2018     83\n",
              "2020     56\n",
              "2017     24\n",
              "2016     15\n",
              "2014      3\n",
              "2015      1\n",
              "Name: publication_year, dtype: int64"
            ]
          },
          "metadata": {},
          "execution_count": 22
        }
      ]
    },
    {
      "cell_type": "code",
      "source": [
        "publications_per_year_sorted = publications_per_year.sort_index()\n",
        "publications_per_year_sorted"
      ],
      "metadata": {
        "colab": {
          "base_uri": "https://localhost:8080/"
        },
        "id": "Nkh5UKLG4Mr5",
        "outputId": "47a2dd96-9b04-46ab-e8bd-69c7159710ab"
      },
      "id": "Nkh5UKLG4Mr5",
      "execution_count": null,
      "outputs": [
        {
          "output_type": "execute_result",
          "data": {
            "text/plain": [
              "2014      3\n",
              "2015      1\n",
              "2016     15\n",
              "2017     24\n",
              "2018     83\n",
              "2019    109\n",
              "2020     56\n",
              "2021    209\n",
              "Name: publication_year, dtype: int64"
            ]
          },
          "metadata": {},
          "execution_count": 23
        }
      ]
    },
    {
      "cell_type": "code",
      "source": [
        "publications_per_year_sorted.plot()"
      ],
      "metadata": {
        "colab": {
          "base_uri": "https://localhost:8080/",
          "height": 282
        },
        "id": "HJwOnevH4bq0",
        "outputId": "0d4035aa-623b-44c4-d31b-7f3909c168b7"
      },
      "id": "HJwOnevH4bq0",
      "execution_count": null,
      "outputs": [
        {
          "output_type": "execute_result",
          "data": {
            "text/plain": [
              "<matplotlib.axes._subplots.AxesSubplot at 0x7f231c1b3ed0>"
            ]
          },
          "metadata": {},
          "execution_count": 24
        },
        {
          "output_type": "display_data",
          "data": {
            "text/plain": [
              "<Figure size 432x288 with 1 Axes>"
            ],
            "image/png": "[encoded data removed]"
          },
          "metadata": {
            "needs_background": "light"
          }
        }
      ]
    }
  ],
  "metadata": {
    "kernelspec": {
      "display_name": "Python 3.10.4 64-bit",
      "language": "python",
      "name": "python3"
    },
    "language_info": {
      "codemirror_mode": {
        "name": "ipython",
        "version": 3
      },
      "file_extension": ".py",
      "mimetype": "text/x-python",
      "name": "python",
      "nbconvert_exporter": "python",
      "pygments_lexer": "ipython3",
      "version": "3.10.4"
    },
    "vscode": {
      "interpreter": {
        "hash": "a2e683e5e2ed245449f7aa357b5a83d3cb3fb19968652fa58849717518e2b16c"
      }
    },
    "colab": {
      "name": "D_Sign_Data_Doc.ipynb",
      "provenance": [],
      "collapsed_sections": [],
      "include_colab_link": true
    }
  },
  "nbformat": 4,
  "nbformat_minor": 5
}