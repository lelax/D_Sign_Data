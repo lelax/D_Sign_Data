{
 "cells": [
  {
   "cell_type": "markdown",
   "id": "b61153c5",
   "metadata": {},
   "source": [
    "<h2 style=\"color:Tomato;\">Data Science course of DHDK university program - Academic year 2021-2022</h2>\n",
    "\n",
    "<h1>D_Sign_Data Notebook</h1>\n",
    "<h3><i>Descriptive document of the final project work</i></h3>\n",
    "\n",
    "<em>Camila, Anita, Marida</em>"
   ]
  },
  {
   "cell_type": "markdown",
   "id": "2ae37698",
   "metadata": {},
   "source": [
    "<h2>The Cotext</h2>\n",
    "\n",
    "<blockquote>The goal of the project is to develop a software that enables one to process data stored in different formats and to upload them into two distinct databases to query these databases simultaneously according to predefined operations. </blockquote>\n",
    "<br>\n",
    "<p>We have been analysing the project requirement and the data provided and assigned a different task to each of us for the development activity</p>\n",
    "<p>Basically we splitted in two groups: one focused on the relational database and the other on the graph</p>\n",
    "<em>Initially the group was composed of four member, at the end we remained in three</em>"
   ]
  },
  {
   "cell_type": "markdown",
   "id": "5f334d7b",
   "metadata": {},
   "source": [
    "<h3>Tools and collaboration environment</h3>\n",
    "\n",
    "<p>First of all we have been setting up our Github Repository: <a href=\"https://github.com/lelax/D_Sign_Data\">https://github.com/lelax/D_Sign_Data</a> and shared access to it in order to be able to upload the material and syncronize it in real time.</p>\n",
    "<p>Then we have been also evaluating between Jupyter and Google Colab and we finally decided to use Jupyter for the documentation report.</p>"
   ]
  },
  {
   "cell_type": "markdown",
   "id": "be5daa1b",
   "metadata": {},
   "source": [
    "<h4><em>What you will find in the repository</em></h4>\n",
    "\n",
    "<ul>\n",
    "    <li>A folder called <b>import</b> where we have copied the .csv and .json files provided</li>\n",
    "    <li>A folder called <b>URIref</b> where we have created additional classes</li>\n",
    "    <li>The <b>impl.py</b> Python file, where all the relational data base has been defined</li>\n",
    "    <li>The <b>graph_01.py</b> Python file, where all the graph data base has been defined</li>\n",
    "    <li>A file for the SPARQL queries</li>\n",
    "</ul>"
   ]
  },
  {
   "cell_type": "markdown",
   "id": "6b2ec343",
   "metadata": {},
   "source": [
    "<h2>The Relational Database</h2>"
   ]
  },
  {
   "cell_type": "markdown",
   "id": "c508dfd3",
   "metadata": {},
   "source": [
    "In the <em>impl.py</em> file we have been developing the code for the creation of a relational database of the data model requested and the data provided.\n",
    "<p>SQL, Pandas and csv reader have been imported in order to create our initial empty dataframe.</p>"
   ]
  },
  {
   "cell_type": "code",
   "execution_count": 5,
   "id": "08a2f002",
   "metadata": {},
   "outputs": [],
   "source": [
    "from sqlite3 import connect\n",
    "from pandas import read_csv, Series, read_sql\n",
    "from csv import reader"
   ]
  },
  {
   "cell_type": "markdown",
   "id": "fc95af51",
   "metadata": {},
   "source": [
    "<h2>The Graph Database</h2>"
   ]
  },
  {
   "cell_type": "markdown",
   "id": "424c54ec",
   "metadata": {},
   "source": [
    "The first step of the creation of the data frame based on the RDF triplestore language has been the definition of all the classes, with attributes and relations. For doing this we needed to import the <em>Graph</em> and the <em>URIRef</em> components from <b>RDF library</b>. They allow to setup an empty graph ready to be populated."
   ]
  },
  {
   "cell_type": "code",
   "execution_count": null,
   "id": "2f3986db",
   "metadata": {},
   "outputs": [],
   "source": [
    "from rdflib import Graph\n",
    "\n",
    "my_graph = Graph()\n",
    "\n",
    "from rdflib import URIRef"
   ]
  },
  {
   "cell_type": "markdown",
   "id": "68c7f214",
   "metadata": {},
   "source": [
    "Then basically looking at the UML model provided we have been listing all the classes required for the resources and assigning for each class a URI, using the resorces of schema.org and Fabio:"
   ]
  },
  {
   "cell_type": "code",
   "execution_count": null,
   "id": "d3c87358",
   "metadata": {},
   "outputs": [],
   "source": [
    "# classes of resources\n",
    "Person = URIRef(\"https://schema.org/Person\")\n",
    "JournalArticle = URIRef(\"https://schema.org/ScholarlyArticle\")\n",
    "BookChapter = URIRef(\"https://schema.org/Chapter\")\n",
    "ProceedingsPaper = URIRef(\"http://purl.org/spar/fabio/ProceedingsPaper\")\n",
    "Journal = URIRef(\"https://schema.org/Periodical\")\n",
    "Book = URIRef(\"https://schema.org/Book\")\n",
    "Proceedings = URIRef(\"http://purl.org/spar/fabio/AcademicProceedings\")\n",
    "Venue = URIRef(\"http://purl.org/dc/elements/1.1/source\")\n",
    "Organization = URIRef(\"https://schema.org/Organization\")"
   ]
  },
  {
   "cell_type": "markdown",
   "id": "d038c13b",
   "metadata": {},
   "source": [
    "Same process has been done for attributes and relations among classes:"
   ]
  },
  {
   "cell_type": "code",
   "execution_count": null,
   "id": "c49bb4c9",
   "metadata": {},
   "outputs": [],
   "source": [
    "# attributes related to classes\n",
    "doi = URIRef(\"https://schema.org/identifier\")\n",
    "publicationYear = URIRef(\"https://schema.org/datePublished\")\n",
    "title = URIRef(\"http://purl.org/dc/terms/title\")\n",
    "issue = URIRef(\"https://schema.org/issueNumber\")\n",
    "volume = URIRef(\"https://schema.org/volumeNumber\")\n",
    "identifier = URIRef(\"https://schema.org/identifier\")\n",
    "name = URIRef(\"https://schema.org/name\")\n",
    "event = URIRef(\"https://schema.org/Event\")\n",
    "chapterNumber = URIRef(\"https://github.com/lelax/D_Sign_Data/blob/main/URIRef/chapterNumber\")\n",
    "givenName = URIRef (\"https://schema.org/givenName\")\n",
    "familyName = URIRef (\"https://schema.org/familyName\")\n",
    "\n",
    "# relations among classes\n",
    "publicationVenue = URIRef(\"https://schema.org/isPartOf\")\n",
    "publisher = URIRef (\"https://schema.org/publishedBy\")\n",
    "author = URIRef (\"http://purl.org/saws/ontology#isWrittenBy\")\n",
    "cites = URIRef (\"http://purl.org/spar/cito/isCitedBy\")"
   ]
  },
  {
   "cell_type": "markdown",
   "id": "4c0406ce",
   "metadata": {},
   "source": [
    "Then we have imported also the constructor <em>Literal</em> for the string, number and boolean variables to be used as attributes of the triples."
   ]
  },
  {
   "cell_type": "markdown",
   "id": "295b95ad",
   "metadata": {},
   "source": [
    "At this point we could start the implementation of the <b>RDF Triplestore</b> and start testing and querying the data provided in the <em>graph_publication.csv</em> file."
   ]
  },
  {
   "cell_type": "code",
   "execution_count": null,
   "id": "6ffd6215",
   "metadata": {},
   "outputs": [],
   "source": []
  }
 ],
 "metadata": {
  "kernelspec": {
   "display_name": "Python 3 (ipykernel)",
   "language": "python",
   "name": "python3"
  },
  "language_info": {
   "codemirror_mode": {
    "name": "ipython",
    "version": 3
   },
   "file_extension": ".py",
   "mimetype": "text/x-python",
   "name": "python",
   "nbconvert_exporter": "python",
   "pygments_lexer": "ipython3",
   "version": "3.9.7"
  }
 },
 "nbformat": 4,
 "nbformat_minor": 5
}
