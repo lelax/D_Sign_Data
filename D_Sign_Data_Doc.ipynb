{
 "cells": [
  {
   "cell_type": "markdown",
   "id": "b61153c5",
   "metadata": {},
   "source": [
    "<h2 style=\"color:Tomato;\">Data Science course of DHDK university program - Academic year 2021-2022</h2>\n",
    "\n",
    "<h1>D_Sign_Data Notebook</h1>\n",
    "<h3><i>Descriptive document of the final project work</i></h3>\n",
    "\n",
    "<em>Camila Oliveira, Anita Vishinskaite, Marida Di Lembo</em>"
   ]
  },
  {
   "cell_type": "markdown",
   "id": "2ae37698",
   "metadata": {},
   "source": [
    "<h2>The Context</h2>\n",
    "\n",
    "<blockquote>The goal of the project is to develop a software that enables one to process data stored in different formats and to upload them into two distinct databases to query these databases simultaneously according to predefined operations. </blockquote>\n",
    "<br>\n",
    "<p>We have been analysing the project requirements and the data provided and assigned a different task to each of us for the development activity</p>\n",
    "<p>Basically we splitted in two groups: one focused on the relational database and the other on the graph database.</p>\n",
    "<p>The tasks were developed in the following way:<p>\n",
    "    <ul>\n",
    "        <li>Camila Oliveiraaaa: Relational Processor, Relational Data Processor and Relational Query Processor</li>\n",
    "        <li>Anita Vishinskaite: Triple Store Processor, Triple Store Data Processor</li>\n",
    "        <li>Marida Di Lembo: Triple Store Query Processor, Generic Query Data Processor</li>\n",
    "</ul>\n",
    "<p><em>Initially the group was composed of four members, at the end we remained in three.</em></p>"
   ]
  },
  {
   "cell_type": "markdown",
   "id": "5f334d7b",
   "metadata": {},
   "source": [
    "<h3>Tools and collaboration environment</h3>\n",
    "\n",
    "<p>First of all we have been setting up our Github Repository: <a href=\"https://github.com/lelax/D_Sign_Data\">https://github.com/lelax/D_Sign_Data</a> and shared access to it in order to be able to upload the material and syncronize it in real time.</p>\n",
    "<p>Then we have been also evaluating between Jupyter and Google Colab and we finally decided to use Jupyter for the documentation report.</p>"
   ]
  },
  {
   "cell_type": "markdown",
   "id": "be5daa1b",
   "metadata": {},
   "source": [
    "<h4><em>What you will find in the repository?</em></h4>\n",
    "\n",
    "<ul>\n",
    "    <li>A folder called <b>import</b> where we have copied the .csv and .json files provided</li>\n",
    "    <li>A folder called <b>URIref</b> where we have created additional classes</li>\n",
    "    <li>The <b>impl.py</b> Python file, where all the relational data base has been defined</li>\n",
    "    <li>The <b>graph_01.py</b> Python file, where all the graph data base has been defined</li>\n",
    "    <li>A file for the SPARQL queries</li>\n",
    "    <li>A file for\n",
    "</ul>"
   ]
  },
  {
   "cell_type": "markdown",
   "id": "6b2ec343",
   "metadata": {},
   "source": [
    "<h2>The Relational Workflow</h2>"
   ]
  },
  {
   "cell_type": "markdown",
   "id": "c508dfd3",
   "metadata": {},
   "source": [
    "In the <em>impl.py</em> file we have been developing the code for the creation of a relational workflow of the data model requested and the data provided.\n",
    "<p>The libraries imported and used are the following:</p>"
   ]
  },
  {
   "cell_type": "code",
   "execution_count": 5,
   "id": "08a2f002",
   "metadata": {},
   "outputs": [],
   "source": [
    "import pandas as pd\n",
    "import sqlite3\n",
    "from sqlite3 import connect\n",
    "from pandas import read_csv\n",
    "from pandas import Series\n",
    "from pandas import read_sql\n",
    "from pandas import read_json\n",
    "from pandas import DataFrame\n",
    "from csv import reader\n",
    "from pandas import merge\n",
    "from json import dump\n",
    "from csv import reader"
   ]
  },
  {
   "cell_type": "markdown",
   "id": "48a29b07",
   "metadata": {},
   "source": [
    "<h2>UML of data model classes<h2>"
   ]
  },
  {
   "cell_type": "markdown",
   "id": "9fcd3e28",
   "metadata": {},
   "source": [
    "<p>The following classes were created as well as their methods as specified in the model:</p>\n",
    "<ul>\n",
    "    <li><b>Identifiable Entity:</b> being the super class</li>\n",
    "    <li>Person</li>\n",
    "    <li>Publication</li>\n",
    "    <li>Venue</li>\n",
    "    <li>Oragnization</li>\n",
    "    <li>Journal Article</li>\n",
    "    <li>Book Chapter</li>\n",
    "    <li>Proceedings Paper</li>\n",
    "    <li>Journal</li>\n",
    "    <li>Book</li>\n",
    "    <li>Proceedings</li>\n",
    "</ul>"
   ]
  },
  {
   "cell_type": "markdown",
   "id": "a5d8c744",
   "metadata": {},
   "source": [
    "<h2>Class Relational Processor</h2>"
   ]
  },
  {
   "cell_type": "markdown",
   "id": "da687284",
   "metadata": {},
   "source": [
    "<p>From the Relational Processor class the attributes getDbPath and setDbPath can be used to return the path of the database and enable a new database path. Those are used in the following way:</p>"
   ]
  },
  {
   "cell_type": "code",
   "execution_count": null,
   "id": "65f9dae4",
   "metadata": {},
   "outputs": [],
   "source": [
    "rel_path = \"relational.db\"\n",
    "rel_dp = RelationalDataProcessor(rel_path)"
   ]
  },
  {
   "cell_type": "markdown",
   "id": "92f210af",
   "metadata": {},
   "source": [
    "<em>It's important to use them in the order described. </em> "
   ]
  },
  {
   "cell_type": "markdown",
   "id": "215351e2",
   "metadata": {},
   "source": [
    "<h2>Class Relational Data Processor</h2>"
   ]
  },
  {
   "cell_type": "markdown",
   "id": "b2568b2c",
   "metadata": {},
   "source": [
    "<p>In this class you'll be able to find the uploadData method in which allows one to upload data, either in CSV or JSON file, into the database previously created with the methods from the Relational Processor class. And can be used as follows:</p>"
   ]
  },
  {
   "cell_type": "code",
   "execution_count": null,
   "id": "39909fe8",
   "metadata": {},
   "outputs": [],
   "source": [
    "rel_dp.uploadData(\"relational_publications.csv\")"
   ]
  },
  {
   "cell_type": "code",
   "execution_count": null,
   "id": "78f08a5c",
   "metadata": {},
   "outputs": [],
   "source": [
    "rel_dp.uploadData(\"relational_other_data.json\")"
   ]
  },
  {
   "cell_type": "markdown",
   "id": "36228df2",
   "metadata": {},
   "source": [
    "<p>After the database path is created and data is uploaded the following tables are created in the relational database:</p>\n",
    "<ul>\n",
    "    <li>Authors</li>\n",
    "    <li>Venues Id</li>\n",
    "    <li>References</li>\n",
    "    <li>Publishers</li>\n",
    "    <li>Publications</li>\n",
    "    <li>Journal Articles</li>\n",
    "    <li>Organization</li>\n",
    "    <li>Journals</li>\n",
    "    <li>Books</li>\n",
    "    <li>Proceedings</li>\n",
    "</ul>"
   ]
  },
  {
   "cell_type": "markdown",
   "id": "bceeba27",
   "metadata": {},
   "source": [
    "<h2>Class Relational Query Processor</h2>"
   ]
  },
  {
   "cell_type": "markdown",
   "id": "a11ffc71",
   "metadata": {},
   "source": [
    "<p>In this class, one is able to query information from the database created according to the follwing methods:</p>\n",
    "<ul>\n",
    "    <li>getPublicationsPublishedinYear</li>\n",
    "    <li>getPublicationsByAuthorId</li>\n",
    "    <li>getMostCitedPublication</li>\n",
    "    <li>getMostCitedVenue</li>\n",
    "    <li>getVenuesByPublisherId</li>\n",
    "    <li>getPublicationInVenue</li>\n",
    "    <li>getJournalArticleInIssue</li>\n",
    "    <li>getJournalArticlesInVolume</li>\n",
    "    <li>getJournalArticlesInJournal</li>\n",
    "    <li>getProceedingsByEvent</li>\n",
    "    <li>getPublicationAuthors</li>\n",
    "    <li>getPublicationByAuthorName</li>\n",
    "    <li>getDistinctPublisherOfPublications</li>\n",
    "</ul>"
   ]
  },
  {
   "cell_type": "markdown",
   "id": "fc95af51",
   "metadata": {},
   "source": [
    "<h2>The Graph workflow</h2>"
   ]
  },
  {
   "cell_type": "markdown",
   "id": "424c54ec",
   "metadata": {},
   "source": [
    "The first step of the creation of the data frame based on the RDF triplestore language has been the definition of all the classes, with attributes and relations. For doing this we needed to import the <em>Graph</em> and the <em>URIRef</em> components from <b>RDF library</b>. They allow to setup an empty graph ready to be populated."
   ]
  },
  {
   "cell_type": "code",
   "execution_count": null,
   "id": "2f3986db",
   "metadata": {},
   "outputs": [],
   "source": [
    "from rdflib import Graph\n",
    "\n",
    "my_graph = Graph()\n",
    "\n",
    "from rdflib import URIRef"
   ]
  },
  {
   "cell_type": "markdown",
   "id": "68c7f214",
   "metadata": {},
   "source": [
    "Then basically looking at the UML model provided we have been listing all the classes required for the resources and assigning for each class a URI, using the resources of schema.org and Fabio:"
   ]
  },
  {
   "cell_type": "code",
   "execution_count": null,
   "id": "d3c87358",
   "metadata": {},
   "outputs": [],
   "source": [
    "# classes of resources\n",
    "Person = URIRef(\"https://schema.org/Person\")\n",
    "JournalArticle = URIRef(\"https://schema.org/ScholarlyArticle\")\n",
    "BookChapter = URIRef(\"https://schema.org/Chapter\")\n",
    "ProceedingsPaper = URIRef(\"http://purl.org/spar/fabio/ProceedingsPaper\")\n",
    "Journal = URIRef(\"https://schema.org/Periodical\")\n",
    "Book = URIRef(\"https://schema.org/Book\")\n",
    "Proceedings = URIRef(\"http://purl.org/spar/fabio/AcademicProceedings\")\n",
    "Venue = URIRef(\"http://purl.org/dc/elements/1.1/source\")\n",
    "Organization = URIRef(\"https://schema.org/Organization\")"
   ]
  },
  {
   "cell_type": "markdown",
   "id": "d038c13b",
   "metadata": {},
   "source": [
    "Same process has been done for attributes and relations among classes:"
   ]
  },
  {
   "cell_type": "code",
   "execution_count": null,
   "id": "c49bb4c9",
   "metadata": {},
   "outputs": [],
   "source": [
    "# attributes related to classes\n",
    "doi = URIRef(\"https://schema.org/identifier\")\n",
    "publicationYear = URIRef(\"https://schema.org/datePublished\")\n",
    "title = URIRef(\"http://purl.org/dc/terms/title\")\n",
    "issue = URIRef(\"https://schema.org/issueNumber\")\n",
    "volume = URIRef(\"https://schema.org/volumeNumber\")\n",
    "identifier = URIRef(\"https://schema.org/identifier\")\n",
    "name = URIRef(\"https://schema.org/name\")\n",
    "event = URIRef(\"https://schema.org/Event\")\n",
    "chapterNumber = URIRef(\"https://github.com/lelax/D_Sign_Data/blob/main/URIRef/chapterNumber\")\n",
    "givenName = URIRef (\"https://schema.org/givenName\")\n",
    "familyName = URIRef (\"https://schema.org/familyName\")\n",
    "\n",
    "# relations among classes\n",
    "publicationVenue = URIRef(\"https://schema.org/isPartOf\")\n",
    "publisher = URIRef (\"https://schema.org/publishedBy\")\n",
    "author = URIRef (\"http://purl.org/saws/ontology#isWrittenBy\")\n",
    "cites = URIRef (\"http://purl.org/spar/cito/isCitedBy\")"
   ]
  },
  {
   "cell_type": "markdown",
   "id": "4c0406ce",
   "metadata": {},
   "source": [
    "Then we have imported also the constructor <em>Literal</em> for the string, number and boolean variables to be used as attributes of the triples."
   ]
  },
  {
   "cell_type": "markdown",
   "id": "295b95ad",
   "metadata": {},
   "source": [
    "At this point we could start the implementation of the <b>RDF Triplestore</b> and start testing and querying the data provided in the <em>graph_publication.csv</em> file."
   ]
  },
  {
   "cell_type": "markdown",
   "id": "d1b5cfd1",
   "metadata": {},
   "source": [
    "<h2>Class Generic Query Processor</h2>"
   ]
  },
  {
   "cell_type": "markdown",
   "id": "d7589421",
   "metadata": {},
   "source": [
    "We have defined the class <em>GenericQueryProcessor</em> in order to define also the functions to collect all the query result and store them in an array."
   ]
  },
  {
   "cell_type": "code",
   "execution_count": null,
   "id": "50d61c6e",
   "metadata": {},
   "outputs": [],
   "source": [
    "class GenericQueryProcessor():\n",
    "    qps = []\n",
    "\n",
    "    def addQueryProcessor(qp):\n",
    "        qps.append(qp)"
   ]
  },
  {
   "cell_type": "markdown",
   "id": "f184c373",
   "metadata": {},
   "source": [
    "Then we added for each method a function calling it and appending all the result by using an iteration."
   ]
  },
  {
   "cell_type": "code",
   "execution_count": null,
   "id": "19446e38",
   "metadata": {},
   "outputs": [],
   "source": []
  }
 ],
 "metadata": {
  "kernelspec": {
   "display_name": "Python 3 (ipykernel)",
   "language": "python",
   "name": "python3"
  },
  "language_info": {
   "codemirror_mode": {
    "name": "ipython",
    "version": 3
   },
   "file_extension": ".py",
   "mimetype": "text/x-python",
   "name": "python",
   "nbconvert_exporter": "python",
   "pygments_lexer": "ipython3",
   "version": "3.9.7"
  }
 },
 "nbformat": 4,
 "nbformat_minor": 5
}
