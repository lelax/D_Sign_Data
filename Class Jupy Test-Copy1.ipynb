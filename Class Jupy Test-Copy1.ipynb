{
 "cells": [
  {
   "cell_type": "code",
   "execution_count": 1,
   "id": "a356c81b",
   "metadata": {},
   "outputs": [],
   "source": [
    "class Publication(object):\n",
    "    def __init__(self, publicationYear, Venue):\n",
    "        self.publicationYear = publicationYear\n",
    "        self.Venue = Venue\n",
    "        \n",
    "    def getPublicationYear(self):\n",
    "        return self.publicationYear"
   ]
  },
  {
   "cell_type": "markdown",
   "id": "a6c24d4e",
   "metadata": {},
   "source": [
    "The code above creates a new class called Publication and a method to return the publication year when necessary."
   ]
  },
  {
   "cell_type": "code",
   "execution_count": 2,
   "id": "7af76485",
   "metadata": {},
   "outputs": [],
   "source": [
    "class Person(object):\n",
    "    def __init__(self, givenName, familyName):\n",
    "        self.givenName = givenName\n",
    "        self.familyName = familyName\n",
    "    \n",
    "    def getgivenName(self):\n",
    "        return self.givenName\n",
    "\n",
    "    def getfamilyName(self):\n",
    "        return self.familyName"
   ]
  }
 ],
 "metadata": {
  "interpreter": {
   "hash": "26de051ba29f2982a8de78e945f0abaf191376122a1563185a90213a26c5da77"
  },
  "kernelspec": {
   "display_name": "Python 3.10.2 64-bit",
   "language": "python",
   "name": "python3"
  },
  "language_info": {
   "codemirror_mode": {
    "name": "ipython",
    "version": 3
   },
   "file_extension": ".py",
   "mimetype": "text/x-python",
   "name": "python",
   "nbconvert_exporter": "python",
   "pygments_lexer": "ipython3",
   "version": "3.10.2"
  }
 },
 "nbformat": 4,
 "nbformat_minor": 5
}
