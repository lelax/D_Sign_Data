{
 "cells": [
  {
   "cell_type": "code",
   "execution_count": null,
   "id": "a356c81b",
   "metadata": {},
   "outputs": [],
   "source": [
    "class Publication(object):\n",
    "    def __init__(self, publicationYear, Venue):\n",
    "        self.publicationYear = publicationYear\n",
    "        self.Venue = Venue\n",
    "        \n",
    "    def getPublicationYear(self):\n",
    "        return self.publicationYear"
   ]
  },
  {
   "cell_type": "markdown",
   "id": "a6c24d4e",
   "metadata": {},
   "source": [
    "The code above creates a new class called Publication and a method to return the publication year when necessary."
   ]
  }
 ],
 "metadata": {
  "kernelspec": {
   "display_name": "Python 3 (ipykernel)",
   "language": "python",
   "name": "python3"
  },
  "language_info": {
   "codemirror_mode": {
    "name": "ipython",
    "version": 3
   },
   "file_extension": ".py",
   "mimetype": "text/x-python",
   "name": "python",
   "nbconvert_exporter": "python",
   "pygments_lexer": "ipython3",
   "version": "3.9.7"
  }
 },
 "nbformat": 4,
 "nbformat_minor": 5
}
